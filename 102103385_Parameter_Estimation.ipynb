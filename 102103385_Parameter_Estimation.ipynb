{
 "cells": [
  {
   "cell_type": "code",
   "execution_count": 5,
   "metadata": {},
   "outputs": [
    {
     "name": "stdout",
     "output_type": "stream",
     "text": [
      "MLE for theta_1 (mean): 3.22\n",
      "MLE for theta_2 (variance): 1.5896000000000001\n"
     ]
    }
   ],
   "source": [
    "#Q1 MLE Normal Distribution\n",
    "\n",
    "\n",
    "import numpy as np\n",
    "\n",
    "# Define a function to calculate the log-likelihood\n",
    "def log_likelihood(theta_1, theta_2, data):\n",
    "    n = len(data)\n",
    "    sum_squared_diff = np.sum((data - theta_1) ** 2)\n",
    "    return -n/2 * np.log(2 * np.pi * theta_2) - sum_squared_diff / (2 * theta_2)\n",
    "\n",
    "# Define a function to find MLE for theta_1 (mean)\n",
    "def mle_theta_1(data):\n",
    "    return np.mean(data)\n",
    "\n",
    "# Define a function to find MLE for theta_2 (variance)\n",
    "def mle_theta_2(theta_1, data):\n",
    "    n = len(data)\n",
    "    return np.sum((data - theta_1) ** 2) / n\n",
    "\n",
    "# Example data\n",
    "data = np.array([1.5, 2.3, 3.1, 4.2, 5.0])\n",
    "\n",
    "# Calculate MLE for theta_1 and theta_2\n",
    "theta_1_mle = mle_theta_1(data)\n",
    "theta_2_mle = mle_theta_2(theta_1_mle, data)\n",
    "\n",
    "print(\"MLE for theta_1 (mean):\", theta_1_mle)\n",
    "print(\"MLE for theta_2 (variance):\", theta_2_mle)\n"
   ]
  },
  {
   "cell_type": "code",
   "execution_count": 7,
   "metadata": {},
   "outputs": [
    {
     "name": "stdout",
     "output_type": "stream",
     "text": [
      "MLE for theta: 0.5\n"
     ]
    }
   ],
   "source": [
    "#Q2 MLE Binomial Distribution\n",
    "\n",
    "\n",
    "from scipy.optimize import minimize\n",
    "from scipy.special import comb\n",
    "import numpy as np\n",
    "\n",
    "# Define the log-likelihood function\n",
    "def log_likelihood(theta, m, data):\n",
    "    return -np.sum(np.log(comb(m, data)) + data * np.log(theta) + (m - data) * np.log(1 - theta))\n",
    "\n",
    "# Example data\n",
    "data = np.array([4, 5, 6])  # Sample observations\n",
    "m = 10  # Known positive integer 'm'\n",
    "\n",
    "# Define the negative log-likelihood function (to minimize)\n",
    "neg_log_likelihood = lambda theta: -log_likelihood(theta, m, data)\n",
    "\n",
    "# Initial guess for theta\n",
    "initial_guess = 0.5\n",
    "\n",
    "# Minimize the negative log-likelihood to find MLE of theta\n",
    "result = minimize(neg_log_likelihood, initial_guess, bounds=[(0.01, 0.99)])\n",
    "\n",
    "# Extract the MLE of theta\n",
    "theta_mle = result.x[0]\n",
    "\n",
    "print(\"MLE for theta:\", theta_mle)\n"
   ]
  }
 ],
 "metadata": {
  "kernelspec": {
   "display_name": "Python 3",
   "language": "python",
   "name": "python3"
  },
  "language_info": {
   "codemirror_mode": {
    "name": "ipython",
    "version": 3
   },
   "file_extension": ".py",
   "mimetype": "text/x-python",
   "name": "python",
   "nbconvert_exporter": "python",
   "pygments_lexer": "ipython3",
   "version": "3.10.11"
  }
 },
 "nbformat": 4,
 "nbformat_minor": 2
}
